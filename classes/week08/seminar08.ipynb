{
 "cells": [
  {
   "cell_type": "markdown",
   "metadata": {},
   "source": [
    "# Семинар 8. Снижение размерностей\n",
    "\n",
    "Подключение библиотек. \n",
    "$\n",
    "\\newcommand{\\R}{\\mathbb{R}}\n",
    "\\newcommand{\\X}{\\mathbb{X}}\n",
    "\\newcommand{\\norm}[1]{\\lVert #1 \\rVert}\n",
    "\\newcommand{\\abs}[1]{\\left| #1 \\right|}\n",
    "\\newcommand{\\E}{\\mathbb{E}}\n",
    "\\newcommand{\\D}{\\mathbb{D}}\n",
    "\\renewcommand{\\Prob}{\\mathbb{P}}\n",
    "\\renewcommand{\\le}{\\leqslant}\n",
    "\\renewcommand{\\ge}{\\geqslant}\n",
    "\\newcommand{\\eps}{\\varepsilon}\n",
    "\\newcommand{\\Normal}{\\mathcal{N}}\n",
    "\\DeclareMathOperator{\\TP}{TP}\n",
    "\\DeclareMathOperator{\\FP}{FP}\n",
    "\\DeclareMathOperator{\\TN}{TN}\n",
    "\\DeclareMathOperator{\\FN}{FN}\n",
    "\\DeclareMathOperator{\\Accuracy}{Accuracy}\n",
    "\\DeclareMathOperator{\\Precision}{Precision}\n",
    "\\DeclareMathOperator{\\Recall}{Recall}\n",
    "\\DeclareMathOperator{\\Fscore}{F_1}\n",
    "\\DeclareMathOperator{\\MSE}{MSE}\n",
    "\\DeclareMathOperator{\\RMSE}{RMSE}\n",
    "\\DeclareMathOperator{\\MAE}{MAE}\n",
    "\\DeclareMathOperator{\\MAPE}{MAPE}\n",
    "\\DeclareMathOperator{\\Rsqured}{R^2}\n",
    "$"
   ]
  },
  {
   "cell_type": "code",
   "execution_count": null,
   "metadata": {},
   "outputs": [],
   "source": [
    "import numpy as np\n",
    "import pandas as pd\n",
    "\n",
    "import matplotlib.pyplot as plt\n",
    "import seaborn as sns\n",
    "import ipywidgets as wg\n",
    "\n",
    "from matplotlib.colors import ListedColormap\n",
    "from IPython.display import Markdown\n",
    "\n",
    "from sklearn.metrics import classification_report\n",
    "from sklearn import set_config\n",
    "\n",
    "import warnings\n",
    "warnings.filterwarnings(\"ignore\", 'This pattern has match groups')\n",
    "\n",
    "set_config(display='diagram')\n",
    "\n",
    "cm_bright = ListedColormap(['red', 'blue'])\n",
    "cm = plt.cm.get_cmap('RdBu')\n",
    "plt.style.use('ggplot')\n",
    "plt.rcParams['figure.figsize'] = (12, 8)"
   ]
  },
  {
   "cell_type": "code",
   "execution_count": null,
   "metadata": {},
   "outputs": [],
   "source": [
    "def draw_image(img, ax=None):\n",
    "    d = img.shape[-1]\n",
    "    d = int(np.sqrt(d))\n",
    "    img = 1 - np.array(img).reshape(-1, d)\n",
    "    if ax is None:\n",
    "        plt.figure(0, (4, 4))\n",
    "        plt.imshow(img, cmap='Greys')\n",
    "        plt.axis('off')\n",
    "        plt.show()\n",
    "    else:\n",
    "        ax.imshow(img, cmap='Greys')\n",
    "        ax.set_axis_off()\n",
    "    return"
   ]
  },
  {
   "cell_type": "code",
   "execution_count": null,
   "metadata": {},
   "outputs": [],
   "source": [
    "from sklearn.datasets import fetch_olivetti_faces\n",
    "\n",
    "\n",
    "olivetti = fetch_olivetti_faces()\n",
    "Markdown(olivetti.DESCR)"
   ]
  },
  {
   "cell_type": "code",
   "execution_count": null,
   "metadata": {},
   "outputs": [],
   "source": [
    "X = olivetti.data\n",
    "y = olivetti.target"
   ]
  },
  {
   "cell_type": "code",
   "execution_count": null,
   "metadata": {
    "scrolled": false
   },
   "outputs": [],
   "source": [
    "k = 10\n",
    "_, axes = plt.subplots(1, k, figsize=(2 * k, 2))\n",
    "\n",
    "for img, ax in zip(X, axes):\n",
    "    draw_image(img, ax)\n",
    "plt.show()"
   ]
  },
  {
   "cell_type": "markdown",
   "metadata": {},
   "source": [
    "# 1. Метод главных компонент\n",
    "\n",
    "Применим метод главных компонент для сжатия размерностей.\n",
    "\n",
    "Основные свойства:\n",
    "* информативность признаков убывает;\n",
    "* признаки некоррелированы;\n",
    "* преобразование обратимо;\n",
    "* максимальное число компонент: `min(N, d)`;\n",
    "* можно использовать как препроцессинг данных."
   ]
  },
  {
   "cell_type": "code",
   "execution_count": null,
   "metadata": {},
   "outputs": [],
   "source": [
    "from sklearn.decomposition import PCA\n",
    "\n",
    "\n",
    "n_components = 400\n",
    "\n",
    "pca = PCA(n_components)\n",
    "pca.fit(X)"
   ]
  },
  {
   "cell_type": "code",
   "execution_count": null,
   "metadata": {},
   "outputs": [],
   "source": [
    "plt.figure(0, (12, 4))\n",
    "explained = pca.explained_variance_ratio_\n",
    "\n",
    "plt.step(np.arange(n_components), explained, color='blue')\n",
    "plt.show()"
   ]
  },
  {
   "cell_type": "code",
   "execution_count": null,
   "metadata": {},
   "outputs": [],
   "source": [
    "plt.figure(0, (12, 4))\n",
    "explained = pca.explained_variance_ratio_.cumsum()\n",
    "\n",
    "level = 0.9\n",
    "n_components_opt = (explained < level).sum()\n",
    "\n",
    "plt.step(np.arange(n_components), explained, color='blue',)\n",
    "plt.axvline(n_components_opt, color='purple', ls='--', label=f'n_components={n_components_opt}')\n",
    "plt.legend()\n",
    "plt.show()"
   ]
  },
  {
   "cell_type": "markdown",
   "metadata": {},
   "source": [
    "Посмотрим как выглядят лица после реконструкции:"
   ]
  },
  {
   "cell_type": "code",
   "execution_count": null,
   "metadata": {},
   "outputs": [],
   "source": [
    "pca = PCA(n_components_opt)\n",
    "pca.fit(X)"
   ]
  },
  {
   "cell_type": "code",
   "execution_count": null,
   "metadata": {},
   "outputs": [],
   "source": [
    "img = X[0]\n",
    "\n",
    "img_pca = (X[0] - pca.mean_) @ pca.components_.T\n",
    "print(img_pca)"
   ]
  },
  {
   "cell_type": "code",
   "execution_count": null,
   "metadata": {},
   "outputs": [],
   "source": [
    "img_reconstructed = img_pca @ pca.components_ + pca.mean_\n",
    "\n",
    "_, [ax1, ax2] = plt.subplots(1, 2, figsize=(8, 4))\n",
    "draw_image(img, ax1)\n",
    "draw_image(img_reconstructed, ax2)\n",
    "plt.show()"
   ]
  },
  {
   "cell_type": "markdown",
   "metadata": {},
   "source": [
    "Стандартные методы PCA:"
   ]
  },
  {
   "cell_type": "code",
   "execution_count": null,
   "metadata": {},
   "outputs": [],
   "source": [
    "X_pca = pca.transform(X)\n",
    "X_rec = pca.inverse_transform(X_pca)\n",
    "\n",
    "k = 10\n",
    "_, axes = plt.subplots(2, k, figsize=(3 * k, 6))\n",
    "for img, img_rec, [ax1, ax2] in zip(X, X_rec, axes.T):\n",
    "    draw_image(img, ax1)\n",
    "    draw_image(img_rec, ax2)"
   ]
  },
  {
   "cell_type": "markdown",
   "metadata": {},
   "source": [
    "Посмотрим на качество в зависимости от числа компонент:"
   ]
  },
  {
   "cell_type": "code",
   "execution_count": null,
   "metadata": {},
   "outputs": [],
   "source": [
    "plot_output = wg.Output()\n",
    "\n",
    "def viz(n_comp):\n",
    "    X = olivetti.data\n",
    "    \n",
    "    pca = PCA(n_comp, random_state=42)\n",
    "    pca.fit(X)\n",
    "    \n",
    "    k = 10\n",
    "    X_pca = pca.transform(X[:k])\n",
    "    X_rec = pca.inverse_transform(X_pca)\n",
    "\n",
    "    with plot_output:\n",
    "        plot_output.clear_output(wait=True)\n",
    "        _, axes = plt.subplots(2, k, figsize=(2 * k, 4))\n",
    "        for img, img_rec, [ax1, ax2] in zip(X, X_rec, axes.T):\n",
    "            draw_image(img, ax1)\n",
    "            draw_image(img_rec, ax2)\n",
    "        plt.show()\n",
    "    \n",
    "    \n",
    "wg.interact(\n",
    "    viz,\n",
    "    n_comp=wg.IntSlider(min=1, max=400, value=65)\n",
    ")\n",
    "display(plot_output)"
   ]
  },
  {
   "cell_type": "markdown",
   "metadata": {},
   "source": [
    "Смотрим на собственные вектора:"
   ]
  },
  {
   "cell_type": "code",
   "execution_count": null,
   "metadata": {},
   "outputs": [],
   "source": [
    "k = 10\n",
    "_, axes = plt.subplots(1, k, figsize=(2 * k, 2))\n",
    "\n",
    "for img, ax in zip(pca.components_, axes):\n",
    "    draw_image(img, ax)\n",
    "plt.show()"
   ]
  },
  {
   "cell_type": "code",
   "execution_count": null,
   "metadata": {},
   "outputs": [],
   "source": [
    "output = wg.Output()\n",
    "\n",
    "pca_10 = PCA(10, random_state=42)\n",
    "pca_10.fit(X)\n",
    "\n",
    "def viz(k0, k1, k2, k3, k4, k5, k6, k7, k8, k9):\n",
    "    img_pca = np.array([k0, k1, k2, k3, k4, k5, k6, k7, k8, k9])\n",
    "    img = pca_10.inverse_transform(img_pca.reshape(1, -1))\n",
    "\n",
    "    with plot_output:\n",
    "        plot_output.clear_output(wait=True)\n",
    "        draw_image(img)\n",
    "        plt.show()\n",
    "        \n",
    "comps = {\n",
    "    f'k{i}': wg.FloatSlider(min=-3 * s, max=3 * s, value=0, step=0.01)\n",
    "    for i, s in zip(range(10), X_pca.std(axis=0))\n",
    "} \n",
    "\n",
    "wg.interact(\n",
    "    viz,\n",
    "    **comps\n",
    ")\n",
    "display(plot_output)"
   ]
  },
  {
   "cell_type": "markdown",
   "metadata": {},
   "source": [
    "__Вывод:__ PCA раскладывает на \"базисные\" лица."
   ]
  },
  {
   "cell_type": "markdown",
   "metadata": {},
   "source": [
    "# 2. TSNE\n",
    "\n",
    "Основные свойства:\n",
    "* ищет нелинейные зависимости в данных;\n",
    "* вычислительно сложный, поэтому число компонент должно быть небольшим;\n",
    "* подходит для визуализации данных."
   ]
  },
  {
   "cell_type": "code",
   "execution_count": null,
   "metadata": {},
   "outputs": [],
   "source": [
    "from sklearn.datasets import load_digits\n",
    "\n",
    "\n",
    "digits = load_digits()\n",
    "Markdown(digits.DESCR)"
   ]
  },
  {
   "cell_type": "code",
   "execution_count": null,
   "metadata": {},
   "outputs": [],
   "source": [
    "X = digits.data\n",
    "y = digits.target"
   ]
  },
  {
   "cell_type": "code",
   "execution_count": null,
   "metadata": {},
   "outputs": [],
   "source": [
    "k = 10\n",
    "_, axes = plt.subplots(2, k, figsize=(1 * k, 2))\n",
    "axes = axes.flatten()\n",
    "\n",
    "for img, ax in zip(X, axes):\n",
    "    draw_image(img, ax)\n",
    "plt.show()"
   ]
  },
  {
   "cell_type": "code",
   "execution_count": null,
   "metadata": {},
   "outputs": [],
   "source": [
    "pca = PCA(n_components=2)\n",
    "pca.fit(X)\n",
    "\n",
    "X_pca = pca.transform(X)"
   ]
  },
  {
   "cell_type": "code",
   "execution_count": null,
   "metadata": {},
   "outputs": [],
   "source": [
    "_, ax = plt.subplots(1, 1, figsize=(12, 12))\n",
    "\n",
    "for c in range(10):\n",
    "    Xl = X_pca[y == c]\n",
    "    ax.scatter(Xl[:, 0], Xl[:, 1], marker=f'${c}$', label=f'{c}')\n",
    "    \n",
    "ax.legend()\n",
    "plt.show()"
   ]
  },
  {
   "cell_type": "markdown",
   "metadata": {},
   "source": [
    "Применим теперь TSNE:"
   ]
  },
  {
   "cell_type": "code",
   "execution_count": null,
   "metadata": {},
   "outputs": [],
   "source": [
    "from sklearn.manifold import TSNE\n",
    "\n",
    "\n",
    "tsne = TSNE(n_components=2)\n",
    "X_tsne = tsne.fit_transform(X)"
   ]
  },
  {
   "cell_type": "code",
   "execution_count": null,
   "metadata": {},
   "outputs": [],
   "source": [
    "_, ax = plt.subplots(1, 1, figsize=(12, 12))\n",
    "\n",
    "for c in range(10):\n",
    "    Xl = X_tsne[y == c]\n",
    "    ax.scatter(Xl[:, 0], Xl[:, 1], marker=f'${c}$', label=f'{c}')\n",
    "    \n",
    "ax.legend()\n",
    "plt.show()"
   ]
  },
  {
   "cell_type": "markdown",
   "metadata": {},
   "source": [
    "Параметры:"
   ]
  },
  {
   "cell_type": "code",
   "execution_count": null,
   "metadata": {},
   "outputs": [],
   "source": [
    "output = wg.Output()\n",
    "\n",
    "def viz(perplexity, early_exaggeration, angle):\n",
    "    tsne = TSNE(perplexity=perplexity, \n",
    "                early_exaggeration=early_exaggeration,\n",
    "                metric='euclidean',\n",
    "                angle=angle,\n",
    "                n_jobs=-1)\n",
    "    X_tsne = tsne.fit_transform(X)\n",
    "\n",
    "    with output:\n",
    "        output.clear_output(wait=True)\n",
    "        \n",
    "        _, ax = plt.subplots(1, 1, figsize=(8, 8))\n",
    "        for c in range(10):\n",
    "            Xl = X_tsne[y == c]\n",
    "            ax.scatter(Xl[:, 0], Xl[:, 1], marker=f'${c}$', label=f'{c}')\n",
    "\n",
    "        ax.legend()\n",
    "        plt.show()\n",
    "    \n",
    "wg.interact(viz,\n",
    "            perplexity=wg.FloatSlider(min=5., max=50., value=30., step=1),\n",
    "            early_exaggeration=wg.FloatSlider(min=1., max=50., value=12., step=1),\n",
    "            metric=wg.Select(options=[]),\n",
    "            angle=wg.FloatSlider(min=0.2, max=0.8, value=0.5, step=0.05))\n",
    "display(output)"
   ]
  },
  {
   "cell_type": "code",
   "execution_count": null,
   "metadata": {},
   "outputs": [],
   "source": []
  }
 ],
 "metadata": {
  "kernelspec": {
   "display_name": "Python 3.7.9 venv",
   "language": "python",
   "name": "python37"
  },
  "language_info": {
   "codemirror_mode": {
    "name": "ipython",
    "version": 3
   },
   "file_extension": ".py",
   "mimetype": "text/x-python",
   "name": "python",
   "nbconvert_exporter": "python",
   "pygments_lexer": "ipython3",
   "version": "3.7.9"
  }
 },
 "nbformat": 4,
 "nbformat_minor": 4
}
