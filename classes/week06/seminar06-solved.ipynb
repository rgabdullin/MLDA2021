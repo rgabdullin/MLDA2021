{
 "cells": [
  {
   "cell_type": "markdown",
   "metadata": {},
   "source": [
    "# Семинар 6. Выбор модели. Кросс-валидация. Отбор признаков\n",
    "\n",
    "Подключение библиотек. \n",
    "$\n",
    "\\newcommand{\\R}{\\mathbb{R}}\n",
    "\\newcommand{\\X}{\\mathbb{X}}\n",
    "\\newcommand{\\norm}[1]{\\lVert #1 \\rVert}\n",
    "\\newcommand{\\abs}[1]{\\left| #1 \\right|}\n",
    "\\newcommand{\\E}{\\mathbb{E}}\n",
    "\\newcommand{\\D}{\\mathbb{D}}\n",
    "\\renewcommand{\\Prob}{\\mathbb{P}}\n",
    "\\renewcommand{\\le}{\\leqslant}\n",
    "\\renewcommand{\\ge}{\\geqslant}\n",
    "\\newcommand{\\eps}{\\varepsilon}\n",
    "\\newcommand{\\Normal}{\\mathcal{N}}\n",
    "\\DeclareMathOperator{\\TP}{TP}\n",
    "\\DeclareMathOperator{\\FP}{FP}\n",
    "\\DeclareMathOperator{\\TN}{TN}\n",
    "\\DeclareMathOperator{\\FN}{FN}\n",
    "\\DeclareMathOperator{\\Accuracy}{Accuracy}\n",
    "\\DeclareMathOperator{\\Precision}{Precision}\n",
    "\\DeclareMathOperator{\\Recall}{Recall}\n",
    "\\DeclareMathOperator{\\Fscore}{F_1}\n",
    "\\DeclareMathOperator{\\MSE}{MSE}\n",
    "\\DeclareMathOperator{\\RMSE}{RMSE}\n",
    "\\DeclareMathOperator{\\MAE}{MAE}\n",
    "\\DeclareMathOperator{\\MAPE}{MAPE}\n",
    "\\DeclareMathOperator{\\Rsqured}{R^2}\n",
    "$"
   ]
  },
  {
   "cell_type": "code",
   "execution_count": 1,
   "metadata": {},
   "outputs": [],
   "source": [
    "import numpy as np\n",
    "import pandas as pd\n",
    "\n",
    "import matplotlib.pyplot as plt\n",
    "import seaborn as sns\n",
    "import ipywidgets as wg\n",
    "\n",
    "from matplotlib.colors import ListedColormap\n",
    "\n",
    "import warnings\n",
    "warnings.filterwarnings(\"ignore\", 'This pattern has match groups')\n",
    "\n",
    "RdGn = ListedColormap(['red', 'green'])\n",
    "plt.style.use('ggplot')\n",
    "plt.rcParams['figure.figsize'] = (12, 4)"
   ]
  },
  {
   "cell_type": "code",
   "execution_count": 2,
   "metadata": {},
   "outputs": [],
   "source": [
    "from sklearn.metrics import mean_absolute_error, mean_squared_error, r2_score\n",
    "\n",
    "\n",
    "def regression_metrics(true, pred, verbose=False, plot=False):\n",
    "    mae = mean_absolute_error(true, pred)\n",
    "    mape = np.abs((true - pred) / true).mean()\n",
    "    mse = mean_squared_error(true, pred)\n",
    "    rmse = np.sqrt(mse)\n",
    "    r2 = r2_score(true, pred)\n",
    "\n",
    "    if verbose:\n",
    "        print('MAE: ', mae)\n",
    "        print('MSE: ', mse)\n",
    "        print('RMSE:', rmse)\n",
    "        print('MAPE:', mape)\n",
    "        print('R2:  ', r2)\n",
    "        print()\n",
    "    \n",
    "    if plot:\n",
    "        plt.figure(0, (6, 6))\n",
    "        plt.scatter(true, pred)\n",
    "        low = min(true.min(), pred.min())\n",
    "        high = max(true.max(), pred.max())\n",
    "\n",
    "        plt.plot([low, high], [low, high], color='blue')\n",
    "        plt.xlabel('Ground Truth')\n",
    "        plt.ylabel('Prediction')\n",
    "        plt.show()\n",
    "        \n",
    "    return (mae, mse, rmse, mape, r2)"
   ]
  },
  {
   "cell_type": "markdown",
   "metadata": {},
   "source": [
    "# Задача выбора модели\n",
    "\n",
    "* __Настройка гиперпараметров:__ для конкретного вида модели выбрать наилучшие гиперпараметры (параметры обучения).\n",
    "* __Выбор вида модели и алгоритма обучения:__ выбрать один из альтернативных видов модели.\n",
    "* __Отбор признаков:__ отбросить неинформативные признаки."
   ]
  },
  {
   "cell_type": "markdown",
   "metadata": {},
   "source": [
    "# 1. Настройка гиперпараметров\n",
    "\n",
    "Датасет __mpg__. По характеристикам машины необходимо спрогнозировать расход топлива.\n",
    "\n",
    "Признаки:\n",
    "* cylinders -- число цилиндров в двигателе;\n",
    "* displacement -- рабочий объем, л;\n",
    "* horsepower -- мощность, л.с.;\n",
    "* weight -- вес, т;\n",
    "* acceleration -- ускорение;\n",
    "* model_year -- год выпуска модели;\n",
    "* origin -- производитель;\n",
    "* name -- название.\n",
    "\n",
    "Целевая переменная:\n",
    "* mpg -- миль на галлон, переведено в км/л."
   ]
  },
  {
   "cell_type": "code",
   "execution_count": 3,
   "metadata": {},
   "outputs": [
    {
     "data": {
      "text/html": [
       "<div>\n",
       "<style scoped>\n",
       "    .dataframe tbody tr th:only-of-type {\n",
       "        vertical-align: middle;\n",
       "    }\n",
       "\n",
       "    .dataframe tbody tr th {\n",
       "        vertical-align: top;\n",
       "    }\n",
       "\n",
       "    .dataframe thead th {\n",
       "        text-align: right;\n",
       "    }\n",
       "</style>\n",
       "<table border=\"1\" class=\"dataframe\">\n",
       "  <thead>\n",
       "    <tr style=\"text-align: right;\">\n",
       "      <th></th>\n",
       "      <th>mpg</th>\n",
       "      <th>cylinders</th>\n",
       "      <th>displacement</th>\n",
       "      <th>horsepower</th>\n",
       "      <th>weight</th>\n",
       "      <th>acceleration</th>\n",
       "      <th>model_year</th>\n",
       "      <th>origin</th>\n",
       "      <th>name</th>\n",
       "    </tr>\n",
       "  </thead>\n",
       "  <tbody>\n",
       "    <tr>\n",
       "      <th>0</th>\n",
       "      <td>13.067503</td>\n",
       "      <td>8</td>\n",
       "      <td>5.030840</td>\n",
       "      <td>130.0</td>\n",
       "      <td>1.589386</td>\n",
       "      <td>12.0</td>\n",
       "      <td>70</td>\n",
       "      <td>usa</td>\n",
       "      <td>chevrolet chevelle malibu</td>\n",
       "    </tr>\n",
       "    <tr>\n",
       "      <th>1</th>\n",
       "      <td>15.681004</td>\n",
       "      <td>8</td>\n",
       "      <td>5.735485</td>\n",
       "      <td>165.0</td>\n",
       "      <td>1.675115</td>\n",
       "      <td>11.5</td>\n",
       "      <td>70</td>\n",
       "      <td>usa</td>\n",
       "      <td>buick skylark 320</td>\n",
       "    </tr>\n",
       "    <tr>\n",
       "      <th>2</th>\n",
       "      <td>13.067503</td>\n",
       "      <td>8</td>\n",
       "      <td>5.211098</td>\n",
       "      <td>150.0</td>\n",
       "      <td>1.558542</td>\n",
       "      <td>11.0</td>\n",
       "      <td>70</td>\n",
       "      <td>usa</td>\n",
       "      <td>plymouth satellite</td>\n",
       "    </tr>\n",
       "    <tr>\n",
       "      <th>3</th>\n",
       "      <td>14.700941</td>\n",
       "      <td>8</td>\n",
       "      <td>4.981678</td>\n",
       "      <td>150.0</td>\n",
       "      <td>1.557181</td>\n",
       "      <td>12.0</td>\n",
       "      <td>70</td>\n",
       "      <td>usa</td>\n",
       "      <td>amc rebel sst</td>\n",
       "    </tr>\n",
       "    <tr>\n",
       "      <th>4</th>\n",
       "      <td>13.836180</td>\n",
       "      <td>8</td>\n",
       "      <td>4.948904</td>\n",
       "      <td>140.0</td>\n",
       "      <td>1.564439</td>\n",
       "      <td>10.5</td>\n",
       "      <td>70</td>\n",
       "      <td>usa</td>\n",
       "      <td>ford torino</td>\n",
       "    </tr>\n",
       "  </tbody>\n",
       "</table>\n",
       "</div>"
      ],
      "text/plain": [
       "         mpg  cylinders  displacement  horsepower    weight  acceleration  \\\n",
       "0  13.067503          8      5.030840       130.0  1.589386          12.0   \n",
       "1  15.681004          8      5.735485       165.0  1.675115          11.5   \n",
       "2  13.067503          8      5.211098       150.0  1.558542          11.0   \n",
       "3  14.700941          8      4.981678       150.0  1.557181          12.0   \n",
       "4  13.836180          8      4.948904       140.0  1.564439          10.5   \n",
       "\n",
       "   model_year origin                       name  \n",
       "0          70    usa  chevrolet chevelle malibu  \n",
       "1          70    usa          buick skylark 320  \n",
       "2          70    usa         plymouth satellite  \n",
       "3          70    usa              amc rebel sst  \n",
       "4          70    usa                ford torino  "
      ]
     },
     "execution_count": 3,
     "metadata": {},
     "output_type": "execute_result"
    }
   ],
   "source": [
    "frame = sns.load_dataset('mpg')\n",
    "frame.dropna(inplace=True)\n",
    "\n",
    "frame['displacement'] *= 16.3871 / 1000\n",
    "frame['mpg'] = 100 / (frame.mpg * 1.60934 / 3.78541)\n",
    "frame['weight'] *= 0.453592 / 1000\n",
    "\n",
    "frame.head()"
   ]
  },
  {
   "cell_type": "markdown",
   "metadata": {},
   "source": [
    "Данные к обучению:"
   ]
  },
  {
   "cell_type": "code",
   "execution_count": 4,
   "metadata": {},
   "outputs": [],
   "source": [
    "X = frame.drop(columns=['mpg', 'name']).copy()\n",
    "y = frame.mpg.copy()"
   ]
  },
  {
   "cell_type": "markdown",
   "metadata": {},
   "source": [
    "## 1.1. Метод отложенной выборки\n",
    "\n",
    "* Делим датасет на 3 части:\n",
    "    * __Train__ -- используется для обучения параметров модели.\n",
    "    * __Valid__ -- используется для оценки обобщающей способности модели и для отбора гиперпараметров.\n",
    "    * __Test__ -- используется для финальной оценки качества алгоритма."
   ]
  },
  {
   "cell_type": "code",
   "execution_count": 5,
   "metadata": {},
   "outputs": [
    {
     "name": "stdout",
     "output_type": "stream",
     "text": [
      "Train size: 281\n",
      "Valid size: 32\n",
      "Test size: 79\n"
     ]
    }
   ],
   "source": [
    "from sklearn.model_selection import train_test_split\n",
    "\n",
    "\n",
    "X_fit, X_test, y_fit, y_test = train_test_split(X, y, test_size=0.2, random_state=42)\n",
    "X_train, X_valid, y_train, y_valid = train_test_split(X_fit, y_fit, test_size=0.1, random_state=42)\n",
    "\n",
    "print('Train size:', X_train.shape[0])\n",
    "print('Valid size:', X_valid.shape[0])\n",
    "print('Test size:', X_test.shape[0])"
   ]
  },
  {
   "cell_type": "markdown",
   "metadata": {},
   "source": [
    "Преобразование признаков и модель:"
   ]
  },
  {
   "cell_type": "code",
   "execution_count": 6,
   "metadata": {},
   "outputs": [
    {
     "data": {
      "text/plain": [
       "ColumnTransformer(transformers=[('standardscaler', StandardScaler(),\n",
       "                                 ['displacement', 'horsepower', 'weight',\n",
       "                                  'acceleration', 'cylinders', 'model_year']),\n",
       "                                ('onehotencoder', OneHotEncoder(drop='first'),\n",
       "                                 ['origin'])])"
      ]
     },
     "execution_count": 6,
     "metadata": {},
     "output_type": "execute_result"
    }
   ],
   "source": [
    "from sklearn.compose import make_column_transformer\n",
    "from sklearn.preprocessing import StandardScaler, OneHotEncoder\n",
    "\n",
    "num_features = ['displacement', 'horsepower', 'weight', 'acceleration', 'cylinders', 'model_year']\n",
    "cat_features = ['origin']\n",
    "\n",
    "transformer = make_column_transformer((StandardScaler(), num_features), (OneHotEncoder(drop='first'), cat_features))\n",
    "transformer"
   ]
  },
  {
   "cell_type": "code",
   "execution_count": 7,
   "metadata": {},
   "outputs": [
    {
     "data": {
      "text/plain": [
       "Ridge(alpha=0.001)"
      ]
     },
     "execution_count": 7,
     "metadata": {},
     "output_type": "execute_result"
    }
   ],
   "source": [
    "from sklearn.linear_model import Ridge\n",
    "\n",
    "\n",
    "estimator = Ridge(alpha=1e-3)\n",
    "estimator"
   ]
  },
  {
   "cell_type": "code",
   "execution_count": 8,
   "metadata": {},
   "outputs": [],
   "source": [
    "from sklearn.pipeline import make_pipeline\n",
    "\n",
    "\n",
    "model = make_pipeline(transformer, estimator)\n",
    "model.fit(X_train, y_train)\n",
    "\n",
    "pred_train = model.predict(X_train)\n",
    "pred_valid = model.predict(X_valid)"
   ]
  },
  {
   "cell_type": "markdown",
   "metadata": {},
   "source": [
    "Печатаем метрики:"
   ]
  },
  {
   "cell_type": "code",
   "execution_count": 9,
   "metadata": {},
   "outputs": [
    {
     "name": "stdout",
     "output_type": "stream",
     "text": [
      "Train:\n",
      "MAE:  1.0065714456298274\n",
      "MSE:  1.8271676990014456\n",
      "RMSE: 1.3517276719078608\n",
      "MAPE: 0.09233814607795612\n",
      "R2:   0.888276001098649\n",
      "\n",
      "Valid:\n",
      "MAE:  0.933371574464639\n",
      "MSE:  1.5088999890361994\n",
      "RMSE: 1.2283729030861106\n",
      "MAPE: 0.09445970413429358\n",
      "R2:   0.808376611496636\n",
      "\n"
     ]
    },
    {
     "data": {
      "image/png": "[encoded data removed]",
      "text/plain": [
       "<Figure size 432x432 with 1 Axes>"
      ]
     },
     "metadata": {},
     "output_type": "display_data"
    },
    {
     "data": {
      "text/plain": [
       "(0.933371574464639,\n",
       " 1.5088999890361994,\n",
       " 1.2283729030861106,\n",
       " 0.09445970413429358,\n",
       " 0.808376611496636)"
      ]
     },
     "execution_count": 9,
     "metadata": {},
     "output_type": "execute_result"
    }
   ],
   "source": [
    "print('Train:')\n",
    "regression_metrics(y_train, pred_train, verbose=True)\n",
    "\n",
    "print('Valid:')\n",
    "regression_metrics(y_valid, pred_valid, verbose=True, plot=True)"
   ]
  },
  {
   "cell_type": "markdown",
   "metadata": {},
   "source": [
    "Выбор гиперпараметров:"
   ]
  },
  {
   "cell_type": "code",
   "execution_count": 10,
   "metadata": {},
   "outputs": [
    {
     "data": {
      "application/vnd.jupyter.widget-view+json": {
       "model_id": "93196031fb094c5aa4fc3e076787e88f",
       "version_major": 2,
       "version_minor": 0
      },
      "text/plain": [
       "HBox(children=(FloatProgress(value=0.0, max=128.0), HTML(value='')))"
      ]
     },
     "metadata": {},
     "output_type": "display_data"
    },
    {
     "name": "stdout",
     "output_type": "stream",
     "text": [
      "\n",
      "Best alpha: 44.22514763163044\n",
      "Idx of best alpha: 118\n"
     ]
    },
    {
     "data": {
      "image/png": "[encoded data removed]",
      "text/plain": [
       "<Figure size 864x288 with 1 Axes>"
      ]
     },
     "metadata": {},
     "output_type": "display_data"
    }
   ],
   "source": [
    "# Best MAE\n",
    "from tqdm.auto import tqdm\n",
    "\n",
    "\n",
    "def func(alpha):\n",
    "    model = make_pipeline(transformer, Ridge(alpha=alpha))\n",
    "    model.fit(X_train, y_train)\n",
    "    \n",
    "    score = mean_absolute_error\n",
    "    \n",
    "    metrics_train = score(y_train, model.predict(X_train))\n",
    "    metrics_valid = score(y_valid, model.predict(X_valid))\n",
    "    return metrics_train, metrics_valid\n",
    "\n",
    "alpha_list = np.logspace(-3, 2, 128)\n",
    "metrics_list = [func(alpha) for alpha in tqdm(alpha_list)]\n",
    "train_list, valid_list = zip(*metrics_list)\n",
    "\n",
    "best_idx = np.argmin(valid_list)\n",
    "alpha_best = alpha_list[best_idx]\n",
    "print('Best alpha:', alpha_best)\n",
    "print('Idx of best alpha:', best_idx)\n",
    "\n",
    "plt.plot(np.log10(alpha_list), train_list, color='blue', label='Train')\n",
    "plt.plot(np.log10(alpha_list), valid_list, color='green', label='Valid')\n",
    "plt.axvline(np.log10(alpha_best), color='purple', lw=2, label='Best alpha')\n",
    "plt.legend()\n",
    "plt.show()"
   ]
  },
  {
   "cell_type": "markdown",
   "metadata": {},
   "source": [
    "Обучаем итоговую модель:"
   ]
  },
  {
   "cell_type": "code",
   "execution_count": 11,
   "metadata": {},
   "outputs": [
    {
     "data": {
      "text/plain": [
       "Pipeline(steps=[('columntransformer',\n",
       "                 ColumnTransformer(transformers=[('standardscaler',\n",
       "                                                  StandardScaler(),\n",
       "                                                  ['displacement', 'horsepower',\n",
       "                                                   'weight', 'acceleration',\n",
       "                                                   'cylinders', 'model_year']),\n",
       "                                                 ('onehotencoder',\n",
       "                                                  OneHotEncoder(drop='first'),\n",
       "                                                  ['origin'])])),\n",
       "                ('ridge', Ridge(alpha=44.22514763163044))])"
      ]
     },
     "execution_count": 11,
     "metadata": {},
     "output_type": "execute_result"
    }
   ],
   "source": [
    "estimator = Ridge(alpha=alpha_best)\n",
    "\n",
    "model = make_pipeline(transformer, estimator)\n",
    "model.fit(X_fit, y_fit)"
   ]
  },
  {
   "cell_type": "code",
   "execution_count": 12,
   "metadata": {},
   "outputs": [
    {
     "name": "stdout",
     "output_type": "stream",
     "text": [
      "Fit:\n",
      "MAE:  0.9926126530297403\n",
      "MSE:  1.9492897682964878\n",
      "RMSE: 1.396169677473511\n",
      "MAPE: 0.09046292873991105\n",
      "R2:   0.874638841932597\n",
      "\n",
      "Test:\n",
      "MAE:  0.9272767346617419\n",
      "MSE:  1.6592567207775493\n",
      "RMSE: 1.2881213920968588\n",
      "MAPE: 0.08099501762559672\n",
      "R2:   0.8829842270316925\n",
      "\n"
     ]
    },
    {
     "data": {
      "image/png": "[encoded data removed]",
      "text/plain": [
       "<Figure size 432x432 with 1 Axes>"
      ]
     },
     "metadata": {},
     "output_type": "display_data"
    },
    {
     "data": {
      "text/plain": [
       "(0.9272767346617419,\n",
       " 1.6592567207775493,\n",
       " 1.2881213920968588,\n",
       " 0.08099501762559672,\n",
       " 0.8829842270316925)"
      ]
     },
     "execution_count": 12,
     "metadata": {},
     "output_type": "execute_result"
    }
   ],
   "source": [
    "print('Fit:')\n",
    "regression_metrics(y_fit, model.predict(X_fit), verbose=True)\n",
    "\n",
    "print('Test:')\n",
    "regression_metrics(y_test, model.predict(X_test), verbose=True, plot=True)"
   ]
  },
  {
   "cell_type": "markdown",
   "metadata": {},
   "source": [
    "## 1.2. Кросс-валидация\n",
    "\n",
    "Цели:\n",
    "* Выбор модели.\n",
    "* Оценка качества.\n",
    "\n",
    "Основные разновидности кросс-валидации:\n",
    "* __Leave One Out:__ \n",
    "    * по очереди откладываем одно наблюдение для оценки;\n",
    "    * обучаем на всей выборке кроме выбранного наблюдения;\n",
    "    * считаем метрики на отложенном наблюдении.\n",
    "* __K-Fold:__\n",
    "    * делим на $k$ непересекающихся групп (fold-ов);\n",
    "    * далее аналогично Leave One Out.\n",
    "* __Repeated K-Fold:__\n",
    "    * несколько раз с разными разбиениями повторяется K-Fold.\n",
    "* __Stratified K-Fold:__\n",
    "    * Разбиения пропорционально категориальному признаку (распределение по категориям в fold-ах будет похожим).\n",
    "* __Grouped K-Fold:__\n",
    "    * Если одному объекту принадлежит несколько наблюдений (например, пользователь померил несколько моделей обуви)."
   ]
  },
  {
   "cell_type": "code",
   "execution_count": 13,
   "metadata": {},
   "outputs": [
    {
     "name": "stdout",
     "output_type": "stream",
     "text": [
      "Fit size: 313\n",
      "Test size: 79\n"
     ]
    }
   ],
   "source": [
    "X_fit, X_test, y_fit, y_test = train_test_split(X, y, test_size=0.2, random_state=42)\n",
    "\n",
    "print('Fit size:', X_fit.shape[0])\n",
    "print('Test size:', X_test.shape[0])"
   ]
  },
  {
   "cell_type": "markdown",
   "metadata": {},
   "source": [
    "$L_2$-регуляризация с кросс-валидацией:"
   ]
  },
  {
   "cell_type": "code",
   "execution_count": 14,
   "metadata": {},
   "outputs": [
    {
     "data": {
      "text/plain": [
       "Pipeline(steps=[('columntransformer',\n",
       "                 ColumnTransformer(transformers=[('standardscaler',\n",
       "                                                  StandardScaler(),\n",
       "                                                  ['displacement', 'horsepower',\n",
       "                                                   'weight', 'acceleration',\n",
       "                                                   'cylinders', 'model_year']),\n",
       "                                                 ('onehotencoder',\n",
       "                                                  OneHotEncoder(drop='first'),\n",
       "                                                  ['origin'])])),\n",
       "                ('ridgecv',\n",
       "                 RidgeCV(alphas=array([1.00000000e-03, 1.20050806e-03, 1.44121960e-03, 1.73019574e-03,\n",
       "       2.07711393e-0...\n",
       "       1.49486913e+00, 1.79460244e+00, 2.15443469e+00, 2.58641621e+00,\n",
       "       3.10501350e+00, 3.72759372e+00, 4.47500630e+00, 5.37228112e+00,\n",
       "       6.44946677e+00, 7.74263683e+00, 9.29509790e+00, 1.11588399e+01,\n",
       "       1.33962772e+01, 1.60823388e+01, 1.93069773e+01, 2.31781818e+01,\n",
       "       2.78255940e+01, 3.34048498e+01, 4.01027914e+01, 4.81437242e+01,\n",
       "       5.77969288e+01, 6.93856788e+01, 8.32980665e+01, 1.00000000e+02])))])"
      ]
     },
     "execution_count": 14,
     "metadata": {},
     "output_type": "execute_result"
    }
   ],
   "source": [
    "from sklearn.linear_model import RidgeCV\n",
    "\n",
    "\n",
    "estimator = RidgeCV(alphas=np.logspace(-3, 2, 64))\n",
    "model = make_pipeline(transformer, estimator)\n",
    "model"
   ]
  },
  {
   "cell_type": "markdown",
   "metadata": {},
   "source": [
    "Настраиваем гиперпараметры и смотрим на качество модели:"
   ]
  },
  {
   "cell_type": "code",
   "execution_count": 15,
   "metadata": {},
   "outputs": [
    {
     "name": "stdout",
     "output_type": "stream",
     "text": [
      "Best alpha: 2.154434690031882\n",
      "Coefs: [-0.49562088  1.08978765  1.979628    0.23120289  0.58091994 -1.1687093\n",
      "  0.15679769  0.77167686]\n"
     ]
    }
   ],
   "source": [
    "model.fit(X_fit, y_fit)\n",
    "\n",
    "print('Best alpha:', model['ridgecv'].alpha_)\n",
    "print('Coefs:', model['ridgecv'].coef_)"
   ]
  },
  {
   "cell_type": "code",
   "execution_count": 16,
   "metadata": {},
   "outputs": [
    {
     "name": "stdout",
     "output_type": "stream",
     "text": [
      "Fit:\n",
      "MAE:  0.9853606796923264\n",
      "MSE:  1.793282315748946\n",
      "RMSE: 1.339134913199169\n",
      "MAPE: 0.09092546627851082\n",
      "R2:   0.8846718679283148\n",
      "\n",
      "Test:\n",
      "MAE:  0.9718889261142355\n",
      "MSE:  1.5602084197707857\n",
      "RMSE: 1.2490830315758779\n",
      "MAPE: 0.08740506806223337\n",
      "R2:   0.8899694110350894\n",
      "\n"
     ]
    },
    {
     "data": {
      "image/png": "[encoded data removed]",
      "text/plain": [
       "<Figure size 432x432 with 1 Axes>"
      ]
     },
     "metadata": {},
     "output_type": "display_data"
    },
    {
     "data": {
      "text/plain": [
       "(0.9718889261142355,\n",
       " 1.5602084197707857,\n",
       " 1.2490830315758779,\n",
       " 0.08740506806223337,\n",
       " 0.8899694110350894)"
      ]
     },
     "execution_count": 16,
     "metadata": {},
     "output_type": "execute_result"
    }
   ],
   "source": [
    "print('Fit:')\n",
    "regression_metrics(y_fit, model.predict(X_fit), verbose=True)\n",
    "\n",
    "print('Test:')\n",
    "regression_metrics(y_test, model.predict(X_test), verbose=True, plot=True)"
   ]
  },
  {
   "cell_type": "markdown",
   "metadata": {},
   "source": [
    "# 1.3. GridSearch\n",
    "\n",
    "Умеет перебирать все возможные гипер-параметры и находить оптимальные для произвольных алгоритмов машинного обучения."
   ]
  },
  {
   "cell_type": "code",
   "execution_count": 17,
   "metadata": {},
   "outputs": [
    {
     "name": "stdout",
     "output_type": "stream",
     "text": [
      "Train size: 281\n",
      "Valid size: 32\n",
      "Test size: 79\n"
     ]
    }
   ],
   "source": [
    "X_fit, X_test, y_fit, y_test = train_test_split(X, y, test_size=0.2, random_state=42)\n",
    "X_train, X_valid, y_train, y_valid = train_test_split(X_fit, y_fit, test_size=0.1, random_state=42)\n",
    "\n",
    "print('Train size:', X_train.shape[0])\n",
    "print('Valid size:', X_valid.shape[0])\n",
    "print('Test size:', X_test.shape[0])"
   ]
  },
  {
   "cell_type": "code",
   "execution_count": 18,
   "metadata": {},
   "outputs": [
    {
     "data": {
      "text/plain": [
       "Pipeline(steps=[('columntransformer',\n",
       "                 ColumnTransformer(transformers=[('standardscaler',\n",
       "                                                  StandardScaler(),\n",
       "                                                  ['displacement', 'horsepower',\n",
       "                                                   'weight', 'acceleration',\n",
       "                                                   'cylinders', 'model_year']),\n",
       "                                                 ('onehotencoder',\n",
       "                                                  OneHotEncoder(drop='first'),\n",
       "                                                  ['origin'])])),\n",
       "                ('gridsearchcv',\n",
       "                 GridSearchCV(estimator=Ridge(),\n",
       "                              param_grid={'alpha': array([1.00000000e-03, 1.44974067e-03, 2....\n",
       "       1.95129342e-02, 2.82886943e-02, 4.10112707e-02, 5.94557071e-02,\n",
       "       8.61953566e-02, 1.24960914e-01, 1.81160919e-01, 2.62636353e-01,\n",
       "       3.80754602e-01, 5.51995432e-01, 8.00250228e-01, 1.16015530e+00,\n",
       "       1.68192432e+00, 2.43835410e+00, 3.53498111e+00, 5.12480588e+00,\n",
       "       7.42963951e+00, 1.07710506e+01, 1.56152301e+01, 2.26380341e+01,\n",
       "       3.28192787e+01, 4.75794431e+01, 6.89778538e+01, 1.00000000e+02]),\n",
       "                                          'solver': ('svd', 'cholesky',\n",
       "                                                     'lsqr')}))])"
      ]
     },
     "execution_count": 18,
     "metadata": {},
     "output_type": "execute_result"
    }
   ],
   "source": [
    "from sklearn.model_selection import GridSearchCV\n",
    "\n",
    "\n",
    "grid_search = GridSearchCV(Ridge(), {\n",
    "    'alpha': np.logspace(-3, 2, 32),\n",
    "    'solver': ('svd', 'cholesky', 'lsqr')\n",
    "})\n",
    "\n",
    "model = make_pipeline(transformer, grid_search)\n",
    "model"
   ]
  },
  {
   "cell_type": "code",
   "execution_count": 19,
   "metadata": {},
   "outputs": [
    {
     "data": {
      "text/plain": [
       "Ridge(alpha=3.5349811050301057, solver='lsqr')"
      ]
     },
     "execution_count": 19,
     "metadata": {},
     "output_type": "execute_result"
    }
   ],
   "source": [
    "model.fit(X_fit, y_fit)\n",
    "model['gridsearchcv'].best_estimator_"
   ]
  },
  {
   "cell_type": "code",
   "execution_count": 20,
   "metadata": {},
   "outputs": [
    {
     "name": "stdout",
     "output_type": "stream",
     "text": [
      "Fit:\n",
      "MAE:  0.9821045073394921\n",
      "MSE:  1.7984240145187897\n",
      "RMSE: 1.341053322772361\n",
      "MAPE: 0.09053643858843877\n",
      "R2:   0.8843411991264236\n",
      "\n",
      "Test:\n",
      "MAE:  0.9669734130451547\n",
      "MSE:  1.5631130532786452\n",
      "RMSE: 1.250245197262779\n",
      "MAPE: 0.08670568528090154\n",
      "R2:   0.8897645675465227\n",
      "\n"
     ]
    },
    {
     "data": {
      "image/png": "[encoded data removed]",
      "text/plain": [
       "<Figure size 432x432 with 1 Axes>"
      ]
     },
     "metadata": {},
     "output_type": "display_data"
    },
    {
     "data": {
      "text/plain": [
       "(0.9669734130451547,\n",
       " 1.5631130532786452,\n",
       " 1.250245197262779,\n",
       " 0.08670568528090154,\n",
       " 0.8897645675465227)"
      ]
     },
     "execution_count": 20,
     "metadata": {},
     "output_type": "execute_result"
    }
   ],
   "source": [
    "print('Fit:')\n",
    "regression_metrics(y_fit, model.predict(X_fit), verbose=True)\n",
    "\n",
    "print('Test:')\n",
    "regression_metrics(y_test, model.predict(X_test), verbose=True, plot=True)"
   ]
  },
  {
   "cell_type": "markdown",
   "metadata": {},
   "source": [
    "GridSearch для всего пайплайна:"
   ]
  },
  {
   "cell_type": "code",
   "execution_count": null,
   "metadata": {},
   "outputs": [],
   "source": []
  },
  {
   "cell_type": "markdown",
   "metadata": {},
   "source": [
    "# 2. Выбор вида модели"
   ]
  },
  {
   "cell_type": "markdown",
   "metadata": {},
   "source": [
    "__Задача:__ отобрать параметры для метода $k$ ближайших соседей."
   ]
  },
  {
   "cell_type": "code",
   "execution_count": null,
   "metadata": {},
   "outputs": [],
   "source": []
  },
  {
   "cell_type": "markdown",
   "metadata": {},
   "source": [
    "__Задача:__ \n",
    "* обучить понравившуюся Вам модель и подобрать к ней гиперпараметры;\n",
    "* выбрать метрику качества и сравнить с KNN."
   ]
  },
  {
   "cell_type": "code",
   "execution_count": null,
   "metadata": {},
   "outputs": [],
   "source": []
  },
  {
   "cell_type": "markdown",
   "metadata": {},
   "source": [
    "# 3. Отбор признаков\n",
    "\n",
    "Sklearn обладает инструментами для отбора признаков ([ссылка на документацию](https://scikit-learn.org/stable/modules/feature_selection.html)).\n",
    "\n",
    "* Удаление признаков с малой дисперсией.\n",
    "* Отбор признаков с помощью статистических критериев.\n",
    "* С помощью $L_1$ регуляризации.\n",
    "* Рекурсивный отбор признаков.\n",
    "* Последовательный отбор признаков."
   ]
  },
  {
   "cell_type": "code",
   "execution_count": 24,
   "metadata": {},
   "outputs": [],
   "source": [
    "from sklearn.feature_selection import (\n",
    "    f_regression,\n",
    "    SelectKBest,\n",
    "    SelectFromModel,\n",
    "    RFE,\n",
    "    SequentialFeatureSelector\n",
    ")"
   ]
  },
  {
   "cell_type": "code",
   "execution_count": 25,
   "metadata": {},
   "outputs": [
    {
     "data": {
      "text/html": [
       "<div>\n",
       "<style scoped>\n",
       "    .dataframe tbody tr th:only-of-type {\n",
       "        vertical-align: middle;\n",
       "    }\n",
       "\n",
       "    .dataframe tbody tr th {\n",
       "        vertical-align: top;\n",
       "    }\n",
       "\n",
       "    .dataframe thead th {\n",
       "        text-align: right;\n",
       "    }\n",
       "</style>\n",
       "<table border=\"1\" class=\"dataframe\">\n",
       "  <thead>\n",
       "    <tr style=\"text-align: right;\">\n",
       "      <th></th>\n",
       "      <th>cylinders</th>\n",
       "      <th>displacement</th>\n",
       "      <th>horsepower</th>\n",
       "      <th>weight</th>\n",
       "      <th>acceleration</th>\n",
       "      <th>model_year</th>\n",
       "      <th>origin</th>\n",
       "    </tr>\n",
       "  </thead>\n",
       "  <tbody>\n",
       "    <tr>\n",
       "      <th>260</th>\n",
       "      <td>6</td>\n",
       "      <td>3.687098</td>\n",
       "      <td>110.0</td>\n",
       "      <td>1.642003</td>\n",
       "      <td>18.7</td>\n",
       "      <td>78</td>\n",
       "      <td>usa</td>\n",
       "    </tr>\n",
       "    <tr>\n",
       "      <th>184</th>\n",
       "      <td>4</td>\n",
       "      <td>2.294194</td>\n",
       "      <td>92.0</td>\n",
       "      <td>1.166639</td>\n",
       "      <td>14.9</td>\n",
       "      <td>76</td>\n",
       "      <td>usa</td>\n",
       "    </tr>\n",
       "    <tr>\n",
       "      <th>174</th>\n",
       "      <td>6</td>\n",
       "      <td>2.802194</td>\n",
       "      <td>97.0</td>\n",
       "      <td>1.353519</td>\n",
       "      <td>14.5</td>\n",
       "      <td>75</td>\n",
       "      <td>usa</td>\n",
       "    </tr>\n",
       "    <tr>\n",
       "      <th>64</th>\n",
       "      <td>8</td>\n",
       "      <td>5.211098</td>\n",
       "      <td>150.0</td>\n",
       "      <td>1.875603</td>\n",
       "      <td>13.5</td>\n",
       "      <td>72</td>\n",
       "      <td>usa</td>\n",
       "    </tr>\n",
       "    <tr>\n",
       "      <th>344</th>\n",
       "      <td>4</td>\n",
       "      <td>1.409291</td>\n",
       "      <td>64.0</td>\n",
       "      <td>0.850485</td>\n",
       "      <td>16.4</td>\n",
       "      <td>81</td>\n",
       "      <td>usa</td>\n",
       "    </tr>\n",
       "  </tbody>\n",
       "</table>\n",
       "</div>"
      ],
      "text/plain": [
       "     cylinders  displacement  horsepower    weight  acceleration  model_year  \\\n",
       "260          6      3.687098       110.0  1.642003          18.7          78   \n",
       "184          4      2.294194        92.0  1.166639          14.9          76   \n",
       "174          6      2.802194        97.0  1.353519          14.5          75   \n",
       "64           8      5.211098       150.0  1.875603          13.5          72   \n",
       "344          4      1.409291        64.0  0.850485          16.4          81   \n",
       "\n",
       "    origin  \n",
       "260    usa  \n",
       "184    usa  \n",
       "174    usa  \n",
       "64     usa  \n",
       "344    usa  "
      ]
     },
     "execution_count": 25,
     "metadata": {},
     "output_type": "execute_result"
    }
   ],
   "source": [
    "X_fit.head()"
   ]
  },
  {
   "cell_type": "markdown",
   "metadata": {},
   "source": [
    "Выбор с помощью модели:"
   ]
  },
  {
   "cell_type": "code",
   "execution_count": 85,
   "metadata": {},
   "outputs": [],
   "source": [
    "from sklearn.linear_model import LinearRegression\n",
    "\n",
    "\n",
    "features = np.random.normal(size=(128, 16))\n",
    "targets = 0.1 + 0.05 * features[:, 0] + 0.02 * features[:, 2] - 0.1 * features[:, 4] + np.random.normal(scale=1)"
   ]
  },
  {
   "cell_type": "code",
   "execution_count": 86,
   "metadata": {},
   "outputs": [
    {
     "data": {
      "text/plain": [
       "array([ True, False,  True, False,  True, False, False, False, False,\n",
       "       False, False, False, False, False, False, False])"
      ]
     },
     "metadata": {},
     "output_type": "display_data"
    },
    {
     "data": {
      "text/plain": [
       "array([[ 1.57946646, -0.58331852, -1.85160961],\n",
       "       [-3.52544447, -0.24937343, -0.05036734],\n",
       "       [ 0.47175092, -0.16055772, -1.00397738],\n",
       "       [-0.40246712, -0.21318851, -0.02120482],\n",
       "       [ 0.2841426 ,  2.07016317, -0.63121291]])"
      ]
     },
     "execution_count": 86,
     "metadata": {},
     "output_type": "execute_result"
    }
   ],
   "source": [
    "selector = SelectFromModel(LinearRegression(), max_features=16)\n",
    "selector.fit(features, targets)\n",
    "\n",
    "display(selector.get_support())\n",
    "selector.transform(features)[:5]"
   ]
  },
  {
   "cell_type": "markdown",
   "metadata": {},
   "source": [
    "Рекурсивный отбор признаков:"
   ]
  },
  {
   "cell_type": "code",
   "execution_count": 87,
   "metadata": {},
   "outputs": [
    {
     "data": {
      "text/plain": [
       "array([ True, False,  True, False,  True, False, False,  True, False,\n",
       "       False, False, False,  True, False,  True, False])"
      ]
     },
     "metadata": {},
     "output_type": "display_data"
    },
    {
     "data": {
      "text/plain": [
       "array([[ 1.57946646, -0.58331852, -1.85160961,  0.28607153,  1.54774964,\n",
       "         1.61474482],\n",
       "       [-3.52544447, -0.24937343, -0.05036734,  0.40935046, -0.05787155,\n",
       "        -0.64447466],\n",
       "       [ 0.47175092, -0.16055772, -1.00397738, -1.54463634, -0.04894699,\n",
       "         0.78895798],\n",
       "       [-0.40246712, -0.21318851, -0.02120482, -0.91390034,  1.52151852,\n",
       "        -0.12973945],\n",
       "       [ 0.2841426 ,  2.07016317, -0.63121291, -0.23404554,  0.64571501,\n",
       "        -1.3703297 ]])"
      ]
     },
     "execution_count": 87,
     "metadata": {},
     "output_type": "execute_result"
    }
   ],
   "source": [
    "selector = RFE(LinearRegression(), n_features_to_select=6)\n",
    "selector.fit(features, targets)\n",
    "\n",
    "display(selector.get_support())\n",
    "selector.transform(features)[:5]"
   ]
  },
  {
   "cell_type": "code",
   "execution_count": 84,
   "metadata": {},
   "outputs": [
    {
     "data": {
      "text/plain": [
       "array([ True, False,  True, False,  True, False, False, False, False,\n",
       "       False, False, False, False, False, False, False])"
      ]
     },
     "metadata": {},
     "output_type": "display_data"
    },
    {
     "data": {
      "text/plain": [
       "array([[ 1.60658821,  0.56629095,  0.27101743],\n",
       "       [-0.25242325,  1.60528839,  0.75639134],\n",
       "       [-0.23898925,  2.19288568,  0.65996421],\n",
       "       [ 0.45374792, -0.15253493,  0.59766123],\n",
       "       [ 0.11596135, -0.18126775, -0.86634457]])"
      ]
     },
     "execution_count": 84,
     "metadata": {},
     "output_type": "execute_result"
    }
   ],
   "source": [
    "selector = SequentialFeatureSelector(LinearRegression(), n_features_to_select=3)\n",
    "selector.fit(features, targets)\n",
    "\n",
    "display(selector.get_support())\n",
    "selector.transform(features)[:5]"
   ]
  },
  {
   "cell_type": "markdown",
   "metadata": {},
   "source": [
    "Встраиваем в Pipeline:"
   ]
  },
  {
   "cell_type": "code",
   "execution_count": 77,
   "metadata": {},
   "outputs": [
    {
     "name": "stdout",
     "output_type": "stream",
     "text": [
      "Fit:\n",
      "MAE:  1.3129402454989323\n",
      "MSE:  2.888925131084569\n",
      "RMSE: 1.6996838326831756\n",
      "MAPE: 0.1233924834791669\n",
      "R2:   0.8150454182898251\n",
      "\n",
      "Test:\n",
      "MAE:  1.1308429534125066\n",
      "MSE:  2.3477503194418583\n",
      "RMSE: 1.532237031089465\n",
      "MAPE: 0.11707061829071402\n",
      "R2:   0.8247106354041729\n",
      "\n"
     ]
    },
    {
     "data": {
      "image/png": "[encoded data removed]",
      "text/plain": [
       "<Figure size 432x432 with 1 Axes>"
      ]
     },
     "metadata": {},
     "output_type": "display_data"
    },
    {
     "data": {
      "text/plain": [
       "(1.1308429534125066,\n",
       " 2.3477503194418583,\n",
       " 1.532237031089465,\n",
       " 0.11707061829071402,\n",
       " 0.8247106354041729)"
      ]
     },
     "execution_count": 77,
     "metadata": {},
     "output_type": "execute_result"
    }
   ],
   "source": [
    "selector = SelectKBest(score_func=f_regression, k=5)\n",
    "estimator = LinearRegression()\n",
    "\n",
    "model = make_pipeline(transformer, selector, estimator)\n",
    "model.fit(X_fit, y_fit)\n",
    "\n",
    "print('Fit:')\n",
    "regression_metrics(y_fit, model.predict(X_fit), verbose=True)\n",
    "\n",
    "print('Test:')\n",
    "regression_metrics(y_test, model.predict(X_test), verbose=True, plot=True)"
   ]
  },
  {
   "cell_type": "code",
   "execution_count": 91,
   "metadata": {
    "scrolled": false
   },
   "outputs": [
    {
     "name": "stdout",
     "output_type": "stream",
     "text": [
      "Fitting 5 folds for each of 512 candidates, totalling 2560 fits\n"
     ]
    },
    {
     "data": {
      "text/plain": [
       "Pipeline(steps=[('columntransformer',\n",
       "                 ColumnTransformer(transformers=[('standardscaler',\n",
       "                                                  StandardScaler(),\n",
       "                                                  ['displacement', 'horsepower',\n",
       "                                                   'weight', 'acceleration',\n",
       "                                                   'cylinders', 'model_year']),\n",
       "                                                 ('onehotencoder',\n",
       "                                                  OneHotEncoder(drop='first'),\n",
       "                                                  ['origin'])])),\n",
       "                ('selectkbest',\n",
       "                 SelectKBest(k=7,\n",
       "                             score_func=<function f_regression at 0x13df0bef0>)),\n",
       "                ('ridge', Ridge(alpha=39.81071705534969))])"
      ]
     },
     "execution_count": 91,
     "metadata": {},
     "output_type": "execute_result"
    }
   ],
   "source": [
    "selector = SelectKBest(score_func=f_regression, k=1)\n",
    "estimator = Ridge()\n",
    "\n",
    "pipeline = make_pipeline(transformer, selector, estimator)\n",
    "pipeline.fit(X_fit, y_fit)\n",
    "\n",
    "model = GridSearchCV(pipeline, {\n",
    "    'ridge__alpha': np.logspace(-4, 3, 16),\n",
    "    'ridge__fit_intercept': [False, True],\n",
    "    'columntransformer__standardscaler__with_mean': [False, True],\n",
    "    'selectkbest__k': list(range(1, 9))\n",
    "}, verbose=1, n_jobs=16)\n",
    "model.fit(X_fit, y_fit)\n",
    "model.best_estimator_"
   ]
  },
  {
   "cell_type": "code",
   "execution_count": 92,
   "metadata": {},
   "outputs": [
    {
     "name": "stdout",
     "output_type": "stream",
     "text": [
      "Fit:\n",
      "MAE:  1.0058292924316232\n",
      "MSE:  1.9669332243387718\n",
      "RMSE: 1.40247396565454\n",
      "MAPE: 0.09036298669511746\n",
      "R2:   0.8740731257293446\n",
      "\n",
      "Test:\n",
      "MAE:  0.9082718296890542\n",
      "MSE:  1.5618446382019242\n",
      "RMSE: 1.2497378277870619\n",
      "MAPE: 0.08915156807783485\n",
      "R2:   0.8833884710990475\n",
      "\n"
     ]
    },
    {
     "data": {
      "text/plain": [
       "(0.9082718296890542,\n",
       " 1.5618446382019242,\n",
       " 1.2497378277870619,\n",
       " 0.08915156807783485,\n",
       " 0.8833884710990475)"
      ]
     },
     "execution_count": 92,
     "metadata": {},
     "output_type": "execute_result"
    }
   ],
   "source": [
    "print('Fit:')\n",
    "regression_metrics(y_fit, model.predict(X_fit), verbose=True)\n",
    "\n",
    "print('Test:')\n",
    "regression_metrics(y_test, model.predict(X_test), verbose=True)"
   ]
  },
  {
   "cell_type": "markdown",
   "metadata": {},
   "source": [
    "# 4. Оценка качества модели на кросс-валидации"
   ]
  },
  {
   "cell_type": "code",
   "execution_count": 93,
   "metadata": {},
   "outputs": [],
   "source": [
    "estimator = Ridge(alpha=0.01)\n",
    "model = make_pipeline(transformer, estimator)"
   ]
  },
  {
   "cell_type": "code",
   "execution_count": 94,
   "metadata": {},
   "outputs": [
    {
     "data": {
      "text/html": [
       "<div>\n",
       "<style scoped>\n",
       "    .dataframe tbody tr th:only-of-type {\n",
       "        vertical-align: middle;\n",
       "    }\n",
       "\n",
       "    .dataframe tbody tr th {\n",
       "        vertical-align: top;\n",
       "    }\n",
       "\n",
       "    .dataframe thead th {\n",
       "        text-align: right;\n",
       "    }\n",
       "</style>\n",
       "<table border=\"1\" class=\"dataframe\">\n",
       "  <thead>\n",
       "    <tr style=\"text-align: right;\">\n",
       "      <th></th>\n",
       "      <th>mae</th>\n",
       "      <th>mse</th>\n",
       "      <th>rmse</th>\n",
       "      <th>mape</th>\n",
       "      <th>r2</th>\n",
       "    </tr>\n",
       "  </thead>\n",
       "  <tbody>\n",
       "    <tr>\n",
       "      <th>0</th>\n",
       "      <td>0.981373</td>\n",
       "      <td>1.561772</td>\n",
       "      <td>1.249709</td>\n",
       "      <td>0.088764</td>\n",
       "      <td>0.889859</td>\n",
       "    </tr>\n",
       "    <tr>\n",
       "      <th>1</th>\n",
       "      <td>0.987270</td>\n",
       "      <td>1.809605</td>\n",
       "      <td>1.345215</td>\n",
       "      <td>0.091567</td>\n",
       "      <td>0.856615</td>\n",
       "    </tr>\n",
       "    <tr>\n",
       "      <th>2</th>\n",
       "      <td>1.117476</td>\n",
       "      <td>2.472154</td>\n",
       "      <td>1.572308</td>\n",
       "      <td>0.101970</td>\n",
       "      <td>0.861524</td>\n",
       "    </tr>\n",
       "    <tr>\n",
       "      <th>3</th>\n",
       "      <td>1.031640</td>\n",
       "      <td>1.929441</td>\n",
       "      <td>1.389043</td>\n",
       "      <td>0.091670</td>\n",
       "      <td>0.889927</td>\n",
       "    </tr>\n",
       "    <tr>\n",
       "      <th>4</th>\n",
       "      <td>0.899956</td>\n",
       "      <td>1.475619</td>\n",
       "      <td>1.214751</td>\n",
       "      <td>0.086569</td>\n",
       "      <td>0.889826</td>\n",
       "    </tr>\n",
       "  </tbody>\n",
       "</table>\n",
       "</div>"
      ],
      "text/plain": [
       "        mae       mse      rmse      mape        r2\n",
       "0  0.981373  1.561772  1.249709  0.088764  0.889859\n",
       "1  0.987270  1.809605  1.345215  0.091567  0.856615\n",
       "2  1.117476  2.472154  1.572308  0.101970  0.861524\n",
       "3  1.031640  1.929441  1.389043  0.091670  0.889927\n",
       "4  0.899956  1.475619  1.214751  0.086569  0.889826"
      ]
     },
     "execution_count": 94,
     "metadata": {},
     "output_type": "execute_result"
    }
   ],
   "source": [
    "from sklearn.model_selection import KFold\n",
    "\n",
    "\n",
    "cv = KFold(n_splits=5, shuffle=True, random_state=42)\n",
    "\n",
    "metrics = []\n",
    "\n",
    "for fit_index, test_index in cv.split(X, y):\n",
    "    X_fit = X.iloc[fit_index]\n",
    "    X_test = X.iloc[test_index]\n",
    "    \n",
    "    y_fit = y.iloc[fit_index]\n",
    "    y_test = y.iloc[test_index]\n",
    "    \n",
    "    model.fit(X_fit, y_fit)\n",
    "    pred_test = model.predict(X_test)\n",
    "    \n",
    "    metrics.append(regression_metrics(y_test, pred_test))\n",
    "    \n",
    "metrics = pd.DataFrame(metrics, columns=['mae', 'mse', 'rmse', 'mape', 'r2'])\n",
    "metrics"
   ]
  },
  {
   "cell_type": "code",
   "execution_count": 95,
   "metadata": {},
   "outputs": [
    {
     "data": {
      "text/plain": [
       "mae     1.003543\n",
       "mse     1.849718\n",
       "rmse    1.354205\n",
       "mape    0.092108\n",
       "r2      0.877550\n",
       "dtype: float64"
      ]
     },
     "execution_count": 95,
     "metadata": {},
     "output_type": "execute_result"
    }
   ],
   "source": [
    "metrics.mean()"
   ]
  },
  {
   "cell_type": "markdown",
   "metadata": {},
   "source": [
    "Из коробки:"
   ]
  },
  {
   "cell_type": "code",
   "execution_count": 96,
   "metadata": {},
   "outputs": [
    {
     "data": {
      "text/plain": [
       "array([-1.5617725 , -1.80960454, -2.47215384, -1.92944142, -1.47561944])"
      ]
     },
     "execution_count": 96,
     "metadata": {},
     "output_type": "execute_result"
    }
   ],
   "source": [
    "from sklearn.model_selection import cross_val_score\n",
    "\n",
    "\n",
    "cv_result = cross_val_score(model, X, y, cv=cv, scoring='neg_mean_squared_error')\n",
    "cv_result"
   ]
  },
  {
   "cell_type": "code",
   "execution_count": 97,
   "metadata": {},
   "outputs": [
    {
     "data": {
      "text/plain": [
       "-1.8497183466864513"
      ]
     },
     "execution_count": 97,
     "metadata": {},
     "output_type": "execute_result"
    }
   ],
   "source": [
    "cv_result.mean()"
   ]
  },
  {
   "cell_type": "markdown",
   "metadata": {},
   "source": [
    "Несколько метрик:"
   ]
  },
  {
   "cell_type": "code",
   "execution_count": 98,
   "metadata": {},
   "outputs": [
    {
     "data": {
      "text/plain": [
       "{'fit_time': array([0.01075983, 0.00897527, 0.00811911, 0.00996113, 0.00974393]),\n",
       " 'score_time': array([0.007092  , 0.00490379, 0.00518584, 0.00558305, 0.00507903]),\n",
       " 'test_neg_mean_absolute_error': array([-0.98137253, -0.98726984, -1.11747559, -1.03163999, -0.89995615]),\n",
       " 'test_neg_mean_squared_error': array([-1.5617725 , -1.80960454, -2.47215384, -1.92944142, -1.47561944]),\n",
       " 'test_r2': array([0.88985911, 0.85661502, 0.86152436, 0.88992746, 0.88982628])}"
      ]
     },
     "execution_count": 98,
     "metadata": {},
     "output_type": "execute_result"
    }
   ],
   "source": [
    "from sklearn.model_selection import cross_validate\n",
    "\n",
    "\n",
    "cv_result = cross_validate(model, X, y, cv=cv, \n",
    "                           scoring=['neg_mean_absolute_error', 'neg_mean_squared_error', 'r2'])\n",
    "cv_result"
   ]
  },
  {
   "cell_type": "code",
   "execution_count": 99,
   "metadata": {},
   "outputs": [
    {
     "data": {
      "text/plain": [
       "{'fit_time': 0.009511852264404297,\n",
       " 'score_time': 0.005568742752075195,\n",
       " 'test_neg_mean_absolute_error': -1.0035428172718521,\n",
       " 'test_neg_mean_squared_error': -1.8497183466864513,\n",
       " 'test_r2': 0.8775504450675523}"
      ]
     },
     "execution_count": 99,
     "metadata": {},
     "output_type": "execute_result"
    }
   ],
   "source": [
    "{k: np.mean(v) for k, v in cv_result.items()}"
   ]
  },
  {
   "cell_type": "code",
   "execution_count": null,
   "metadata": {},
   "outputs": [],
   "source": []
  }
 ],
 "metadata": {
  "kernelspec": {
   "display_name": "Python 3.7.9 venv",
   "language": "python",
   "name": "python37"
  },
  "language_info": {
   "codemirror_mode": {
    "name": "ipython",
    "version": 3
   },
   "file_extension": ".py",
   "mimetype": "text/x-python",
   "name": "python",
   "nbconvert_exporter": "python",
   "pygments_lexer": "ipython3",
   "version": "3.7.9"
  }
 },
 "nbformat": 4,
 "nbformat_minor": 4
}
