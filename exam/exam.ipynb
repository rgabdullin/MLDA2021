{
 "cells": [
  {
   "cell_type": "markdown",
   "metadata": {},
   "source": [
    "# Экзамен по курсу \"Машинное обучение и анализ даннах-1\"\n",
    "\n",
    "* __Дата:__ 01 апреля 2021.\n",
    "* __Максимальный балл:__ 50.\n",
    "* __Время выполнения:__ 3 часа.\n",
    "\n",
    "Требования:\n",
    "* Работа должна быть выполнена самостоятельно.\n",
    "* Везде где есть случайность, параметр `random_state` должен быть зафиксирован на число `42`.\n",
    "* Ноутбук должен исправно работать через `Restart & Run All`."
   ]
  },
  {
   "cell_type": "code",
   "execution_count": null,
   "metadata": {},
   "outputs": [],
   "source": [
    "import pandas as pd\n",
    "import numpy as np\n",
    "\n",
    "\n",
    "import matplotlib.pyplot as plt"
   ]
  },
  {
   "cell_type": "markdown",
   "metadata": {},
   "source": [
    "## Задание 1. Линейная регрессия (20 баллов)\n",
    "\n",
    "* Обучите линейную модель тренировочном наборе данных (6 баллов).\n",
    "* Обучите линейную модель с $L_1$-регуляризацией (10 баллов).\n",
    "* Оцените метрики регрессии (4 балла)."
   ]
  },
  {
   "cell_type": "code",
   "execution_count": null,
   "metadata": {},
   "outputs": [],
   "source": [
    "train = pd.read_csv('data/task1_train.csv')\n",
    "test = pd.read_csv('data/task1_test.csv')\n",
    "\n",
    "print('Train shape:', train.shape)\n",
    "print('Test shape:', test.shape)\n",
    "train.head()"
   ]
  },
  {
   "cell_type": "markdown",
   "metadata": {},
   "source": [
    "Готовим данные:"
   ]
  },
  {
   "cell_type": "code",
   "execution_count": null,
   "metadata": {},
   "outputs": [],
   "source": [
    "X_train = train.drop(columns={'y'}).copy()\n",
    "X_test = test.drop(columns={'y'}).copy()\n",
    "\n",
    "y_train = train.y.copy()\n",
    "y_test = test.y.copy()"
   ]
  },
  {
   "cell_type": "markdown",
   "metadata": {},
   "source": [
    "### 1.1. Обучите линейную регрессию на данных (6 баллов)\n",
    "* Обучите модель (2 балла)."
   ]
  },
  {
   "cell_type": "code",
   "execution_count": null,
   "metadata": {},
   "outputs": [],
   "source": [
    "### YOUR CODE ###"
   ]
  },
  {
   "cell_type": "markdown",
   "metadata": {},
   "source": [
    "* Выведите коэффициенты и смещение модели (2 балла)."
   ]
  },
  {
   "cell_type": "code",
   "execution_count": null,
   "metadata": {},
   "outputs": [],
   "source": [
    "### YOUR CODE ###"
   ]
  },
  {
   "cell_type": "markdown",
   "metadata": {},
   "source": [
    "* Все ли признаки в модели значимы? Перечислите значимые признаки с соответствующими коэффициентами (2 балла)."
   ]
  },
  {
   "cell_type": "raw",
   "metadata": {},
   "source": [
    "### YOUR ANSWER ###"
   ]
  },
  {
   "cell_type": "markdown",
   "metadata": {},
   "source": [
    "### 1.2. Обучите линейную модель с $L_1$ регуляризацией (10 баллов).\n",
    "* Обучите модель (2 балла)."
   ]
  },
  {
   "cell_type": "code",
   "execution_count": null,
   "metadata": {},
   "outputs": [],
   "source": [
    "### YOUR CODE ###"
   ]
  },
  {
   "cell_type": "markdown",
   "metadata": {},
   "source": [
    "* Выведите коэффициенты и смещение модели (2 балла)."
   ]
  },
  {
   "cell_type": "code",
   "execution_count": null,
   "metadata": {},
   "outputs": [],
   "source": [
    "### YOUR CODE ###"
   ]
  },
  {
   "cell_type": "markdown",
   "metadata": {},
   "source": [
    "* Отберите оптимальный параметр регуляризации `alpha`, выведите его на экран (4 балла).\n",
    "\n",
    "__Примечание:__ используйте `KFold` кросс-валидацию на 5 фолдов, зафиксируйте `random_state=42`."
   ]
  },
  {
   "cell_type": "code",
   "execution_count": null,
   "metadata": {},
   "outputs": [],
   "source": [
    "### YOUR CODE ###"
   ]
  },
  {
   "cell_type": "markdown",
   "metadata": {},
   "source": [
    "* Посмотрите на коэффициенты. На отобранных признаках обучите обычную модель без регуляризации, напечатайте коэффициенты и смещение (2 балла)."
   ]
  },
  {
   "cell_type": "code",
   "execution_count": null,
   "metadata": {},
   "outputs": [],
   "source": [
    "### YOUR CODE ###"
   ]
  },
  {
   "cell_type": "markdown",
   "metadata": {},
   "source": [
    "### 1.3. Оцените метрики регрессии (4 балла).\n",
    "\n",
    "* Оцените метрики последней `mean_squared_error` и `r2_score` на тренировочном наборе (2 балла)."
   ]
  },
  {
   "cell_type": "code",
   "execution_count": null,
   "metadata": {},
   "outputs": [],
   "source": [
    "### YOUR CODE ###"
   ]
  },
  {
   "cell_type": "markdown",
   "metadata": {},
   "source": [
    "* Оцените метрики модели с ре `mean_squared_error` и `r2_score` на тестовом наборе (2 балла)."
   ]
  },
  {
   "cell_type": "code",
   "execution_count": null,
   "metadata": {},
   "outputs": [],
   "source": [
    "### YOUR CODE ###"
   ]
  },
  {
   "cell_type": "markdown",
   "metadata": {},
   "source": [
    "* Какие выводы о данных Вы можете сделать?"
   ]
  },
  {
   "cell_type": "raw",
   "metadata": {},
   "source": [
    "### YOUR ANSWER ###"
   ]
  },
  {
   "cell_type": "markdown",
   "metadata": {},
   "source": [
    "# Задание 2. Классификация (20 баллов)\n",
    "\n",
    "* Обучите классическую логистическую регрессию (3 балла).\n",
    "* Обучите логистическую регрессию с $L_1$-регуляризацией (6 баллов).\n",
    "* Обучите метод опорных векторов (8 баллов).\n",
    "* Посчитайте метрики обученных моделей (3 балла)."
   ]
  },
  {
   "cell_type": "code",
   "execution_count": null,
   "metadata": {},
   "outputs": [],
   "source": [
    "train = pd.read_csv('data/task2_train.csv')\n",
    "test = pd.read_csv('data/task2_test.csv')\n",
    "\n",
    "print('Train shape:', train.shape)\n",
    "print('Test shape:', test.shape)\n",
    "train.head()"
   ]
  },
  {
   "cell_type": "markdown",
   "metadata": {},
   "source": [
    "Готовим данные:"
   ]
  },
  {
   "cell_type": "code",
   "execution_count": null,
   "metadata": {},
   "outputs": [],
   "source": [
    "X_train = train.drop(columns={'y'}).copy()\n",
    "X_test = test.drop(columns={'y'}).copy()\n",
    "\n",
    "y_train = train.y.copy()\n",
    "y_test = test.y.copy()"
   ]
  },
  {
   "cell_type": "markdown",
   "metadata": {},
   "source": [
    "### 2.1. Обучите классическую логистическую регрессию (3 балла).\n",
    "* Обучите модель на тренировочных данных. Посмотрите на коэффициенты и смещение модели (1 балл)."
   ]
  },
  {
   "cell_type": "code",
   "execution_count": null,
   "metadata": {},
   "outputs": [],
   "source": [
    "### YOUR CODE ###"
   ]
  },
  {
   "cell_type": "markdown",
   "metadata": {},
   "source": [
    "* Оцените метрики `accuracy_score` и `roc_auc_score` на кроссвалидации (2 балла).\n",
    "\n",
    "__Примечание:__ используйте `KFold` кросс-валидацию на 5 фолдов, зафиксируйте `random_state=42`."
   ]
  },
  {
   "cell_type": "code",
   "execution_count": null,
   "metadata": {},
   "outputs": [],
   "source": [
    "### YOUR CODE ###"
   ]
  },
  {
   "cell_type": "markdown",
   "metadata": {},
   "source": [
    "### 2.2. Обучите логистическую регрессию с $L_1$-регуляризацией (6 баллов).\n",
    "\n",
    "* Обучите модель с $L_1$-регуляризацией, посмотрите на коэффициенты и смещение (2 балла).\n",
    "\n",
    "__Примечание:__ зафиксируйте `random_state=42`."
   ]
  },
  {
   "cell_type": "code",
   "execution_count": null,
   "metadata": {},
   "outputs": [],
   "source": [
    "### YOUR CODE ###"
   ]
  },
  {
   "cell_type": "markdown",
   "metadata": {},
   "source": [
    "* Выберите оптимальный параметр `C` регуляризации, напечатайте оптимальный параметр `C` (3 балла).\n",
    "\n",
    "__Примечание:__ используйте `KFold` кросс-валидацию на 5 фолдов, зафиксируйте `random_state=42`."
   ]
  },
  {
   "cell_type": "code",
   "execution_count": null,
   "metadata": {},
   "outputs": [],
   "source": [
    "### YOUR CODE ###"
   ]
  },
  {
   "cell_type": "markdown",
   "metadata": {},
   "source": [
    "* Оцените метрики `accuracy_score` и `roc_auc_score` последней модели на кроссвалидации (1 балл).\n",
    "\n",
    "__Примечание:__ используйте `KFold` кросс-валидацию на 5 фолдов, зафиксируйте `random_state=42`."
   ]
  },
  {
   "cell_type": "code",
   "execution_count": null,
   "metadata": {},
   "outputs": [],
   "source": [
    "### YOUR CODE ###"
   ]
  },
  {
   "cell_type": "markdown",
   "metadata": {},
   "source": [
    "### Обучите метод опорных векторов (8 баллов).\n",
    "\n",
    "* Обучите метод опорных векторов, оцените метрики  (1 балл)."
   ]
  },
  {
   "cell_type": "code",
   "execution_count": null,
   "metadata": {},
   "outputs": [],
   "source": [
    "### YOUR CODE ###"
   ]
  },
  {
   "cell_type": "markdown",
   "metadata": {},
   "source": [
    "* Сравните метрики `accuracy_score` и `roc_auc_score` на кроссвалидации с метриками логистической регрессии (1 балл).\n",
    "\n",
    "__Примечание:__ используйте `KFold` кросс-валидацию на 5 фолдов, зафиксируйте `random_state=42`."
   ]
  },
  {
   "cell_type": "code",
   "execution_count": null,
   "metadata": {},
   "outputs": [],
   "source": [
    "### YOUR CODE ###"
   ]
  },
  {
   "cell_type": "markdown",
   "metadata": {},
   "source": [
    "* Как отличаются метрики SVM и логистической регрессии (1 балл)?"
   ]
  },
  {
   "cell_type": "raw",
   "metadata": {},
   "source": [
    "### YOUR ANSWER ###"
   ]
  },
  {
   "cell_type": "markdown",
   "metadata": {},
   "source": [
    "* Отберите оптимальные параметры `C` и `gamma` для метода опорных векторов, выведите лучшие параметры (4 балла)."
   ]
  },
  {
   "cell_type": "code",
   "execution_count": null,
   "metadata": {},
   "outputs": [],
   "source": [
    "### YOUR CODE ###"
   ]
  },
  {
   "cell_type": "markdown",
   "metadata": {},
   "source": [
    "* Для выбранных параметров оцените метрики `accuracy_score` и `roc_auc_score` метода опорных векторов на кроссвалидации (1 балл).\n",
    "\n",
    "__Примечание:__ используйте `KFold` кросс-валидацию на 5 фолдов, зафиксируйте `random_state=42`."
   ]
  },
  {
   "cell_type": "code",
   "execution_count": null,
   "metadata": {},
   "outputs": [],
   "source": [
    "### YOUR CODE ###"
   ]
  },
  {
   "cell_type": "markdown",
   "metadata": {},
   "source": [
    "# Задание 3. Кластеризация (10 баллов).\n",
    "* Препроцессинг данных (1 балл).\n",
    "* Применить к данным методы кластеризации (5 баллов).\n",
    "* Применить методы сжатия размерностей (4 балла)."
   ]
  },
  {
   "cell_type": "code",
   "execution_count": null,
   "metadata": {},
   "outputs": [],
   "source": [
    "X = pd.read_csv('data/task3.csv')\n",
    "\n",
    "X.head()"
   ]
  },
  {
   "cell_type": "markdown",
   "metadata": {},
   "source": [
    "* Отмасштабируйте данные (1 балл)."
   ]
  },
  {
   "cell_type": "code",
   "execution_count": null,
   "metadata": {},
   "outputs": [],
   "source": [
    "### YOUR CODE ###"
   ]
  },
  {
   "cell_type": "markdown",
   "metadata": {},
   "source": [
    "### 3.1. Применить к данным методы кластеризации (5 баллов).\n",
    "* Выберите один из двух методовL `KMeans` или `AgglomerativeClustering` и примените его к данным (2 балла)."
   ]
  },
  {
   "cell_type": "code",
   "execution_count": null,
   "metadata": {},
   "outputs": [],
   "source": [
    "### YOUR CODE ###"
   ]
  },
  {
   "cell_type": "markdown",
   "metadata": {},
   "source": [
    "* Постройте график зависимости метрики `silhouette_score` от числа кластеров (2 балла)."
   ]
  },
  {
   "cell_type": "code",
   "execution_count": null,
   "metadata": {},
   "outputs": [],
   "source": [
    "### YOUR CODE ###"
   ]
  },
  {
   "cell_type": "markdown",
   "metadata": {},
   "source": [
    "* По графику метрики `silhouette_score` определите оптимальное число кластеров (1 балл)."
   ]
  },
  {
   "cell_type": "raw",
   "metadata": {},
   "source": [
    "### YOUR ANSWER ###"
   ]
  },
  {
   "cell_type": "markdown",
   "metadata": {},
   "source": [
    "### 3.2. Применить методы сжатия размерностей (4 балла).\n",
    "\n",
    "* Примените метод главных компонент (1 балл)."
   ]
  },
  {
   "cell_type": "code",
   "execution_count": null,
   "metadata": {},
   "outputs": [],
   "source": [
    "### YOUR CODE ###"
   ]
  },
  {
   "cell_type": "markdown",
   "metadata": {},
   "source": [
    "* Постройте `scatter` график для первых двух компонент, визуально определите число кластеров (1 балл)."
   ]
  },
  {
   "cell_type": "code",
   "execution_count": null,
   "metadata": {},
   "outputs": [],
   "source": [
    "### YOUR CODE ###"
   ]
  },
  {
   "cell_type": "markdown",
   "metadata": {},
   "source": [
    "Число кластеров в данных:"
   ]
  },
  {
   "cell_type": "raw",
   "metadata": {},
   "source": [
    "### YOUR ANSWER ###"
   ]
  },
  {
   "cell_type": "markdown",
   "metadata": {},
   "source": [
    "* Постройте график зависимости доли объясненной дисперсии от числа компонент, определите оптимальное число компонент (1 балл).\n",
    "\n",
    "__Примечание:__ для этого обучите метод главных компонент с числом компонент, равным числу признаков."
   ]
  },
  {
   "cell_type": "code",
   "execution_count": null,
   "metadata": {},
   "outputs": [],
   "source": [
    "### YOUR CODE ###"
   ]
  },
  {
   "cell_type": "markdown",
   "metadata": {},
   "source": [
    "Оптимальное число компонент:"
   ]
  },
  {
   "cell_type": "raw",
   "metadata": {},
   "source": [
    "### YOUR ANSWER ###"
   ]
  },
  {
   "cell_type": "markdown",
   "metadata": {},
   "source": [
    "* Примените к данным метод `TSNE` и постройте `scatter` график на плоскости (1 балл)."
   ]
  },
  {
   "cell_type": "code",
   "execution_count": null,
   "metadata": {},
   "outputs": [],
   "source": [
    "### YOUR CODE ###"
   ]
  },
  {
   "cell_type": "markdown",
   "metadata": {},
   "source": [
    "Сколько кластеров Вы видите:"
   ]
  },
  {
   "cell_type": "raw",
   "metadata": {},
   "source": [
    "### YOUR ANSWER ###"
   ]
  },
  {
   "cell_type": "markdown",
   "metadata": {},
   "source": [
    "# Итоги:\n",
    "\n",
    "* Задание 1: ? / 20.\n",
    "* Задание 2: ? / 20.\n",
    "* Задание 3: ? / 10.\n",
    "\n",
    "__Оценка:__ ?\n"
   ]
  },
  {
   "cell_type": "code",
   "execution_count": null,
   "metadata": {},
   "outputs": [],
   "source": []
  }
 ],
 "metadata": {
  "kernelspec": {
   "display_name": "Python 3.8.6",
   "language": "python",
   "name": "venv386"
  },
  "language_info": {
   "codemirror_mode": {
    "name": "ipython",
    "version": 3
   },
   "file_extension": ".py",
   "mimetype": "text/x-python",
   "name": "python",
   "nbconvert_exporter": "python",
   "pygments_lexer": "ipython3",
   "version": "3.8.6"
  }
 },
 "nbformat": 4,
 "nbformat_minor": 4
}
